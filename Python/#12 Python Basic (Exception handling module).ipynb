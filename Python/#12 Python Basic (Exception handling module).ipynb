{
 "cells": [
  {
   "cell_type": "code",
   "execution_count": 1,
   "metadata": {},
   "outputs": [],
   "source": [
    "import math\n",
    "\n",
    "def printLog():\n",
    "    for i in range(10):\n",
    "\n",
    "        inputNum = input(\"Input a value:\")\n",
    "        if inputNum == \"q\":\n",
    "            break\n",
    "        else:\n",
    "            result = math.log(float(inputNum))\n",
    "            print(result)\n",
    "    return result"
   ]
  },
  {
   "cell_type": "code",
   "execution_count": 3,
   "metadata": {},
   "outputs": [],
   "source": [
    "# printLog()\n",
    "# Input a value:1\n",
    "# 0.0\n",
    "# Input a value:2\n",
    "# 0.6931471805599453\n",
    "# Input a value:3\n",
    "# 1.0986122886681098\n",
    "# Input a value:-1\n",
    "# ---------------------------------------------------------------------------\n",
    "# ValueError                                Traceback (most recent call last)\n",
    "# <ipython-input-2-c64b69dc949a> in <module>\n",
    "# ----> 1 printLog()\n",
    "\n",
    "# <ipython-input-1-912621f8c31c> in printLog()\n",
    "#       8             break\n",
    "#       9         else:\n",
    "# ---> 10             result = math.log(float(inputNum))\n",
    "#      11             print(result)\n",
    "#      12     return result\n",
    "\n",
    "# ValueError: math domain error"
   ]
  },
  {
   "cell_type": "code",
   "execution_count": null,
   "metadata": {},
   "outputs": [],
   "source": [
    "def printLog():\n",
    "   \n",
    "        for i in range(10):\n",
    "\n",
    "            try:\n",
    "                inputNum = input(\"Input a value:\")\n",
    "                if inputNum == \"q\":\n",
    "                    break\n",
    "                else:\n",
    "                    result = math.log(float(inputNum))\n",
    "                    print(result)\n",
    "            except:\n",
    "                print(\"Error\")\n",
    "        return result\n",
    "\n",
    "   "
   ]
  },
  {
   "cell_type": "code",
   "execution_count": null,
   "metadata": {},
   "outputs": [
    {
     "name": "stdout",
     "output_type": "stream",
     "text": [
      "Input a value:-1\n",
      "Error\n",
      "Input a value:-2\n",
      "Error\n",
      "Input a value:1\n",
      "0.0\n",
      "Input a value:2\n",
      "0.6931471805599453\n",
      "Input a value:-3\n",
      "Error\n",
      "Input a value:1\n",
      "0.0\n",
      "Input a value:2\n",
      "0.6931471805599453\n"
     ]
    }
   ],
   "source": [
    "printLog()"
   ]
  },
  {
   "cell_type": "code",
   "execution_count": 10,
   "metadata": {},
   "outputs": [],
   "source": [
    "def printLog():\n",
    "   \n",
    "        for i in range(10):\n",
    "\n",
    "            try:\n",
    "                inputNum = input(\"Input a value:\")\n",
    "                if inputNum == \"q\":\n",
    "                    break\n",
    "                else:\n",
    "                    result = math.log(float(inputNum))\n",
    "                    print(result)\n",
    "            except Exception as e:\n",
    "                print(e)\n",
    "        return result\n",
    "\n"
   ]
  },
  {
   "cell_type": "code",
   "execution_count": null,
   "metadata": {},
   "outputs": [
    {
     "name": "stdout",
     "output_type": "stream",
     "text": [
      "Input a value:-1\n",
      "math domain error\n",
      "Input a value:2\n",
      "0.6931471805599453\n",
      "Input a value:0\n",
      "math domain error\n"
     ]
    }
   ],
   "source": [
    "printLog()"
   ]
  },
  {
   "cell_type": "markdown",
   "metadata": {},
   "source": [
    "# ***Multi-Exceptions***"
   ]
  },
  {
   "cell_type": "code",
   "execution_count": 4,
   "metadata": {},
   "outputs": [],
   "source": [
    "def printLog():\n",
    "   \n",
    "        for i in range(10):\n",
    "\n",
    "            try:\n",
    "                result = None\n",
    "                inputNum = input(\"Input a value:\")\n",
    "                if inputNum == \"q\":\n",
    "                    break\n",
    "                else:\n",
    "                    result = 1/(math.log(float(inputNum)))\n",
    "                    print(result)\n",
    "            except ValueError:\n",
    "                print(\"ValueError\")\n",
    "            except ZeroDivisionError:\n",
    "                print(\"ZeroDivisionError\")\n",
    "            except Exception as e:\n",
    "                print(e)\n",
    "                \n",
    "        return result"
   ]
  },
  {
   "cell_type": "code",
   "execution_count": 5,
   "metadata": {},
   "outputs": [
    {
     "name": "stdout",
     "output_type": "stream",
     "text": [
      "Input a value:q\n"
     ]
    }
   ],
   "source": [
    "printLog()"
   ]
  },
  {
   "cell_type": "markdown",
   "metadata": {},
   "source": [
    "# ***Finally in Exceptions***"
   ]
  },
  {
   "cell_type": "code",
   "execution_count": 6,
   "metadata": {},
   "outputs": [],
   "source": [
    "def printLog():\n",
    "   \n",
    "        for i in range(10):\n",
    "\n",
    "            try:\n",
    "                result = None\n",
    "                inputNum = input(\"Input a value:\")\n",
    "                if inputNum == \"q\":\n",
    "                    break\n",
    "                else:\n",
    "                    result = 1/(math.log(float(inputNum)))\n",
    "                    print(result)\n",
    "            except ValueError:\n",
    "                print(\"ValueError\")\n",
    "            except ZeroDivisionError:\n",
    "                print(\"ZeroDivisionError\")\n",
    "            except Exception as e:\n",
    "                print(e)\n",
    "            finally:\n",
    "                print(\"Finally, the program is over!\")\n",
    "                \n",
    "        return result"
   ]
  },
  {
   "cell_type": "code",
   "execution_count": null,
   "metadata": {},
   "outputs": [
    {
     "name": "stdout",
     "output_type": "stream",
     "text": [
      "Input a value:-1\n",
      "ValueError\n",
      "Finally, the program is over!\n",
      "Input a value:1\n",
      "ZeroDivisionError\n",
      "Finally, the program is over!\n"
     ]
    }
   ],
   "source": [
    "printLog()"
   ]
  }
 ],
 "metadata": {
  "kernelspec": {
   "display_name": "Python 3",
   "language": "python",
   "name": "python3"
  },
  "language_info": {
   "codemirror_mode": {
    "name": "ipython",
    "version": 3
   },
   "file_extension": ".py",
   "mimetype": "text/x-python",
   "name": "python",
   "nbconvert_exporter": "python",
   "pygments_lexer": "ipython3",
   "version": "3.7.3"
  }
 },
 "nbformat": 4,
 "nbformat_minor": 2
}
